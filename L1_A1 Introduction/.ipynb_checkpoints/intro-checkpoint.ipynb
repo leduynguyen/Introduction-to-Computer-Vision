{
 "cells": [
  {
   "cell_type": "markdown",
   "metadata": {},
   "source": [
    "# Introduction\n",
    "\n",
    "For the course, you can select what the language that you familiar between Python and Matlab to do the experiments in the course. \n",
    "\n",
    "In this section, I list all the need for installation and their dependencies.\n",
    "\n",
    "## 1. **Python** \n",
    "I recommend install Python - OpenCV. We can select to install OpenCV-2 (recomment) or OpenCV-3 as in the below\n",
    "* Install [OpenCV 2](https://anaconda.org/menpo/opencv) in Anaconda.\n",
    "* Install [OpenCV 3](https://anaconda.org/menpo/opencv3) in Anaconda."
   ]
  },
  {
   "cell_type": "code",
   "execution_count": 2,
   "metadata": {
    "collapsed": false
   },
   "outputs": [
    {
     "name": "stdout",
     "output_type": "stream",
     "text": [
      "OpenCV version: 3.1.0\n"
     ]
    }
   ],
   "source": [
    "# Check version of OpenCV\n",
    "import cv2\n",
    "\n",
    "print \"OpenCV version:\", cv2.__version__"
   ]
  },
  {
   "cell_type": "markdown",
   "metadata": {},
   "source": [
    "## 2. **Matlab**\n",
    "You have to install the Matlab and package for computer vision.\n",
    "(Will be updated soon)\n",
    "## 3. **C++**\n",
    "You have to install OpenCV library\n",
    "* Install [OpenCV](http://opencv.org/downloads.html)\n",
    "(Will be updated soon)"
   ]
  },
  {
   "cell_type": "code",
   "execution_count": null,
   "metadata": {
    "collapsed": true
   },
   "outputs": [],
   "source": []
  }
 ],
 "metadata": {
  "anaconda-cloud": {},
  "kernelspec": {
   "display_name": "Python [conda root]",
   "language": "python",
   "name": "conda-root-py"
  },
  "language_info": {
   "codemirror_mode": {
    "name": "ipython",
    "version": 2
   },
   "file_extension": ".py",
   "mimetype": "text/x-python",
   "name": "python",
   "nbconvert_exporter": "python",
   "pygments_lexer": "ipython2",
   "version": "2.7.12"
  }
 },
 "nbformat": 4,
 "nbformat_minor": 1
}
